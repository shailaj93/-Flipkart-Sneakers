{
 "cells": [
  {
   "cell_type": "code",
   "execution_count": 1,
   "id": "a75ede2a",
   "metadata": {},
   "outputs": [
    {
     "name": "stdout",
     "output_type": "stream",
     "text": [
      "Requirement already satisfied: selenium in c:\\users\\ayushi\\anaconda3\\lib\\site-packages (4.1.0)\n",
      "Requirement already satisfied: urllib3[secure]~=1.26 in c:\\users\\ayushi\\anaconda3\\lib\\site-packages (from selenium) (1.26.4)\n",
      "Requirement already satisfied: trio-websocket~=0.9 in c:\\users\\ayushi\\anaconda3\\lib\\site-packages (from selenium) (0.9.2)\n",
      "Requirement already satisfied: trio~=0.17 in c:\\users\\ayushi\\anaconda3\\lib\\site-packages (from selenium) (0.19.0)\n",
      "Requirement already satisfied: outcome in c:\\users\\ayushi\\anaconda3\\lib\\site-packages (from trio~=0.17->selenium) (1.1.0)\n",
      "Requirement already satisfied: sortedcontainers in c:\\users\\ayushi\\anaconda3\\lib\\site-packages (from trio~=0.17->selenium) (2.3.0)\n",
      "Requirement already satisfied: idna in c:\\users\\ayushi\\anaconda3\\lib\\site-packages (from trio~=0.17->selenium) (2.10)\n",
      "Requirement already satisfied: attrs>=19.2.0 in c:\\users\\ayushi\\anaconda3\\lib\\site-packages (from trio~=0.17->selenium) (20.3.0)\n",
      "Requirement already satisfied: async-generator>=1.9 in c:\\users\\ayushi\\anaconda3\\lib\\site-packages (from trio~=0.17->selenium) (1.10)\n",
      "Requirement already satisfied: sniffio in c:\\users\\ayushi\\anaconda3\\lib\\site-packages (from trio~=0.17->selenium) (1.2.0)\n",
      "Requirement already satisfied: cffi>=1.14 in c:\\users\\ayushi\\anaconda3\\lib\\site-packages (from trio~=0.17->selenium) (1.14.5)\n",
      "Requirement already satisfied: pycparser in c:\\users\\ayushi\\anaconda3\\lib\\site-packages (from cffi>=1.14->trio~=0.17->selenium) (2.20)\n",
      "Requirement already satisfied: wsproto>=0.14 in c:\\users\\ayushi\\anaconda3\\lib\\site-packages (from trio-websocket~=0.9->selenium) (1.0.0)\n",
      "Requirement already satisfied: certifi in c:\\users\\ayushi\\anaconda3\\lib\\site-packages (from urllib3[secure]~=1.26->selenium) (2020.12.5)\n",
      "Requirement already satisfied: pyOpenSSL>=0.14 in c:\\users\\ayushi\\anaconda3\\lib\\site-packages (from urllib3[secure]~=1.26->selenium) (20.0.1)\n",
      "Requirement already satisfied: cryptography>=1.3.4 in c:\\users\\ayushi\\anaconda3\\lib\\site-packages (from urllib3[secure]~=1.26->selenium) (3.4.7)\n",
      "Requirement already satisfied: six>=1.5.2 in c:\\users\\ayushi\\anaconda3\\lib\\site-packages (from pyOpenSSL>=0.14->urllib3[secure]~=1.26->selenium) (1.15.0)\n",
      "Requirement already satisfied: h11<1,>=0.9.0 in c:\\users\\ayushi\\anaconda3\\lib\\site-packages (from wsproto>=0.14->trio-websocket~=0.9->selenium) (0.12.0)\n"
     ]
    }
   ],
   "source": [
    "!pip install selenium"
   ]
  },
  {
   "cell_type": "code",
   "execution_count": 2,
   "id": "373b6e32",
   "metadata": {},
   "outputs": [],
   "source": [
    "import selenium\n",
    "from selenium import webdriver\n",
    "import pandas as pd\n",
    "import warnings \n",
    "warnings.filterwarnings('ignore')"
   ]
  },
  {
   "cell_type": "code",
   "execution_count": 32,
   "id": "433feb5b",
   "metadata": {},
   "outputs": [],
   "source": [
    "driver=webdriver.Chrome(r'C:\\Users\\AYUSHI\\Downloads\\chromedriver_win32\\chromedriver.exe')"
   ]
  },
  {
   "cell_type": "code",
   "execution_count": 33,
   "id": "1c0da8f1",
   "metadata": {},
   "outputs": [],
   "source": [
    "url='https://www.flipkart.com/'\n",
    "driver.get(url)"
   ]
  },
  {
   "cell_type": "code",
   "execution_count": 34,
   "id": "4b97cf09",
   "metadata": {},
   "outputs": [
    {
     "data": {
      "text/plain": [
       "<selenium.webdriver.remote.webelement.WebElement (session=\"79ba9009c4bc7cb6822bdefe6415ab53\", element=\"b63d9127-0cdb-459e-aa4c-c0c4230da2c6\")>"
      ]
     },
     "execution_count": 34,
     "metadata": {},
     "output_type": "execute_result"
    }
   ],
   "source": [
    "search_field=driver.find_element_by_xpath('/html/body/div[1]/div/div[1]/div[1]/div[2]/div[2]/form/div/div/input')\n",
    "search_field"
   ]
  },
  {
   "cell_type": "code",
   "execution_count": 35,
   "id": "4bda2a6d",
   "metadata": {},
   "outputs": [],
   "source": [
    "search_field.send_keys('Sneakers')"
   ]
  },
  {
   "cell_type": "code",
   "execution_count": 36,
   "id": "eebe328d",
   "metadata": {},
   "outputs": [
    {
     "data": {
      "text/plain": [
       "<selenium.webdriver.remote.webelement.WebElement (session=\"79ba9009c4bc7cb6822bdefe6415ab53\", element=\"bd741cc4-658e-45c7-bde3-e148b511df65\")>"
      ]
     },
     "execution_count": 36,
     "metadata": {},
     "output_type": "execute_result"
    }
   ],
   "source": [
    "search_btn=driver.find_element_by_xpath('/html/body/div[1]/div/div[1]/div[1]/div[2]/div[2]/form/div/button')\n",
    "search_btn"
   ]
  },
  {
   "cell_type": "code",
   "execution_count": 37,
   "id": "7dbabe6d",
   "metadata": {},
   "outputs": [],
   "source": [
    "search_btn.click()"
   ]
  },
  {
   "cell_type": "code",
   "execution_count": 38,
   "id": "4a38e15d",
   "metadata": {},
   "outputs": [
    {
     "data": {
      "text/plain": [
       "40"
      ]
     },
     "execution_count": 38,
     "metadata": {},
     "output_type": "execute_result"
    }
   ],
   "source": [
    "brands_tags=driver.find_elements_by_xpath('//div[@class=\"_2WkVRV\"]')\n",
    "len(brands_tags)"
   ]
  },
  {
   "cell_type": "code",
   "execution_count": 39,
   "id": "a3b2ba38",
   "metadata": {},
   "outputs": [
    {
     "data": {
      "text/plain": [
       "['Echor',\n",
       " 'CLYMB',\n",
       " 'Magnolia',\n",
       " 'luxury fashion',\n",
       " 'URBANBOX',\n",
       " 'Labbin',\n",
       " 'Stefano Rads',\n",
       " 'DUNKASTON',\n",
       " 'Extoes',\n",
       " 'D-SNEAKERZ',\n",
       " 'Trendmode',\n",
       " 'KNIGHT WALKERS',\n",
       " 'SCATCHITE',\n",
       " 'Shoes Bank',\n",
       " 'ASTEROID',\n",
       " 'Deals4you',\n",
       " 'HOTSTYLE',\n",
       " 'Kraasa',\n",
       " 'Numenzo',\n",
       " 'Echor',\n",
       " 'ganpati traders',\n",
       " 'Echor',\n",
       " 'BIRDE',\n",
       " 'Echor',\n",
       " 'Robbie jones',\n",
       " 'Pieds',\n",
       " 'Arohi',\n",
       " 'PUMA',\n",
       " 'Numenzo',\n",
       " 'TR',\n",
       " 'PUMA',\n",
       " 'Deals4you',\n",
       " 'Rzisbo',\n",
       " 'India hub',\n",
       " 'CLYMB',\n",
       " 'VORII',\n",
       " 'Kraasa',\n",
       " 'Lee Won',\n",
       " 'RapidBox',\n",
       " 'CLYMB']"
      ]
     },
     "execution_count": 39,
     "metadata": {},
     "output_type": "execute_result"
    }
   ],
   "source": [
    "brand_titles=[]\n",
    "for i in brands_tags:\n",
    "    brand_titles.append(i.text)\n",
    "brand_titles[0:40]"
   ]
  },
  {
   "cell_type": "code",
   "execution_count": 40,
   "id": "aa4e26d7",
   "metadata": {},
   "outputs": [
    {
     "data": {
      "text/plain": [
       "40"
      ]
     },
     "execution_count": 40,
     "metadata": {},
     "output_type": "execute_result"
    }
   ],
   "source": [
    "description_tags=driver.find_elements_by_xpath('//div[@class=\"_2B099V\"]/a[1]')\n",
    "len(description_tags)"
   ]
  },
  {
   "cell_type": "code",
   "execution_count": 41,
   "id": "64b9f92f",
   "metadata": {},
   "outputs": [
    {
     "data": {
      "text/plain": [
       "[\"Echor Men's Sneakers Fashion Lightweight Running Shoes ...\",\n",
       " 'Walking/Outdoor/Running Sneakers For Men',\n",
       " 'Sneakers For Men',\n",
       " 'Sneakers For Men',\n",
       " 'Sneakers Sneakers For Men',\n",
       " 'Sneakers For Men',\n",
       " 'Classy Sneakers For Men',\n",
       " 'Sneakers For Men',\n",
       " 'Modern Trendy Shoes Combo pack of 4 Sneakers For Men',\n",
       " \"Casual , Partywear Sneakers Shoes For Men's And Boys Wh...\",\n",
       " 'Sneakers For Men',\n",
       " 'Sneakers For Men',\n",
       " 'Sneakers Sneakers For Men',\n",
       " \"White Sneaker For Men's/Boy's Sneakers For Men\",\n",
       " \"Original Luxury Branded Fashionable Men's Casual Walkin...\",\n",
       " 'Sneakers For Men',\n",
       " 'Sneakers For Men',\n",
       " 'Series 7 Sneakers For Men',\n",
       " '411 Casual Sneakers For Men',\n",
       " \"Men's Sneakers Fashion Lightweight Running Shoes Tennis...\",\n",
       " 'Sneakers For Men',\n",
       " \"Men's Sneakers Fashion Lightweight Running Shoes Tennis...\",\n",
       " 'Sports Running Shoes Sneakers For Men',\n",
       " \"Men's Canvas Low Top Sneakers Lace-up Classic Casual Sn...\",\n",
       " 'Sneakers For Men',\n",
       " 'Sneakers For Men',\n",
       " 'Sneakers For Men',\n",
       " 'RS-Z Sneakers For Men',\n",
       " 'White Sneaker For Men Sneakers For Men',\n",
       " 'Sneakers For Men',\n",
       " 'Glory Sneakers For Men',\n",
       " 'Sneakers For Men',\n",
       " 'Sneakers For Men',\n",
       " 'Luxury Fashionable casual sneaker shoes Sneakers For Me...',\n",
       " 'Sneakers For Men',\n",
       " 'Comfortable & light weight Sneakers For Men',\n",
       " 'Shark-41 Sneakers For Men',\n",
       " 'FASHION Sneakers For Men',\n",
       " 'Sneakers For Men',\n",
       " 'Mesh Sports/Walking Shoes/Outdoor Ultra Lightweight Run...']"
      ]
     },
     "execution_count": 41,
     "metadata": {},
     "output_type": "execute_result"
    }
   ],
   "source": [
    "description_names=[]\n",
    "for j in description_tags:\n",
    "    description_names.append(j.text)\n",
    "description_names"
   ]
  },
  {
   "cell_type": "code",
   "execution_count": 42,
   "id": "3f49d323",
   "metadata": {},
   "outputs": [
    {
     "data": {
      "text/plain": [
       "40"
      ]
     },
     "execution_count": 42,
     "metadata": {},
     "output_type": "execute_result"
    }
   ],
   "source": [
    "price_tags=driver.find_elements_by_xpath('//div[@class=\"_30jeq3\"]')\n",
    "len(price_tags)"
   ]
  },
  {
   "cell_type": "code",
   "execution_count": 43,
   "id": "eaa10eb6",
   "metadata": {},
   "outputs": [
    {
     "data": {
      "text/plain": [
       "['₹569',\n",
       " '₹649',\n",
       " '₹398',\n",
       " '₹449',\n",
       " '₹220',\n",
       " '₹499',\n",
       " '₹242',\n",
       " '₹374',\n",
       " '₹948',\n",
       " '₹348',\n",
       " '₹259',\n",
       " '₹649',\n",
       " '₹398',\n",
       " '₹331',\n",
       " '₹499',\n",
       " '₹649',\n",
       " '₹298',\n",
       " '₹444',\n",
       " '₹426',\n",
       " '₹569',\n",
       " '₹189',\n",
       " '₹499',\n",
       " '₹299',\n",
       " '₹446',\n",
       " '₹474',\n",
       " '₹299',\n",
       " '₹398',\n",
       " '₹9,999',\n",
       " '₹407',\n",
       " '₹599',\n",
       " '₹1,319',\n",
       " '₹379',\n",
       " '₹549',\n",
       " '₹499',\n",
       " '₹649',\n",
       " '₹474',\n",
       " '₹444',\n",
       " '₹299',\n",
       " '₹680',\n",
       " '₹259']"
      ]
     },
     "execution_count": 43,
     "metadata": {},
     "output_type": "execute_result"
    }
   ],
   "source": [
    "price=[]\n",
    "for k in price_tags:\n",
    "    price.append(k.text)\n",
    "price"
   ]
  },
  {
   "cell_type": "code",
   "execution_count": 44,
   "id": "cc1e145a",
   "metadata": {},
   "outputs": [
    {
     "data": {
      "text/plain": [
       "39"
      ]
     },
     "execution_count": 44,
     "metadata": {},
     "output_type": "execute_result"
    }
   ],
   "source": [
    "discount_tags=driver.find_elements_by_xpath('//div[@class=\"_3Ay6Sb\"]')\n",
    "len(discount_tags)"
   ]
  },
  {
   "cell_type": "code",
   "execution_count": 45,
   "id": "48dbe897",
   "metadata": {},
   "outputs": [
    {
     "data": {
      "text/plain": [
       "['62% off',\n",
       " '56% off',\n",
       " '60% off',\n",
       " '65% off',\n",
       " '77% off',\n",
       " '50% off',\n",
       " '65% off',\n",
       " '75% off',\n",
       " '36% off',\n",
       " '47% off',\n",
       " '74% off',\n",
       " '56% off',\n",
       " '60% off',\n",
       " '66% off',\n",
       " '50% off',\n",
       " '67% off',\n",
       " '70% off',\n",
       " '55% off',\n",
       " '78% off',\n",
       " '00% off',\n",
       " '43% off',\n",
       " '62% off',\n",
       " '50% off',\n",
       " '40% off',\n",
       " '70% off',\n",
       " '52% off',\n",
       " '70% off',\n",
       " '60% off',\n",
       " '68% off',\n",
       " '70% off',\n",
       " '56% off',\n",
       " '62% off',\n",
       " '45% off',\n",
       " '61% off',\n",
       " '56% off',\n",
       " '52% off',\n",
       " '55% off',\n",
       " '40% off',\n",
       " '31% off',\n",
       " '74% off']"
      ]
     },
     "execution_count": 45,
     "metadata": {},
     "output_type": "execute_result"
    }
   ],
   "source": [
    "discount=[]\n",
    "for k in discount_tags:\n",
    "    discount.append(k.text)\n",
    "z=\"00% off\"\n",
    "discount.insert(19,z)\n",
    "discount"
   ]
  },
  {
   "cell_type": "code",
   "execution_count": 46,
   "id": "c5374102",
   "metadata": {},
   "outputs": [
    {
     "data": {
      "text/plain": [
       "<selenium.webdriver.remote.webelement.WebElement (session=\"79ba9009c4bc7cb6822bdefe6415ab53\", element=\"d21f848e-b07f-47bc-8ce3-2d010930fac9\")>"
      ]
     },
     "execution_count": 46,
     "metadata": {},
     "output_type": "execute_result"
    }
   ],
   "source": [
    "next_btn=driver.find_element_by_xpath('/html/body/div[1]/div/div[3]/div[1]/div[2]/div[12]/div/div/nav/a[11]/span')\n",
    "next_btn"
   ]
  },
  {
   "cell_type": "code",
   "execution_count": 47,
   "id": "d87668e4",
   "metadata": {},
   "outputs": [],
   "source": [
    "next_btn.click()"
   ]
  },
  {
   "cell_type": "code",
   "execution_count": 48,
   "id": "380db1ed",
   "metadata": {},
   "outputs": [
    {
     "data": {
      "text/plain": [
       "40"
      ]
     },
     "execution_count": 48,
     "metadata": {},
     "output_type": "execute_result"
    }
   ],
   "source": [
    "brands_tags=driver.find_elements_by_xpath('//div[@class=\"_2WkVRV\"]')\n",
    "len(brands_tags)"
   ]
  },
  {
   "cell_type": "code",
   "execution_count": 49,
   "id": "4c263858",
   "metadata": {},
   "outputs": [
    {
     "data": {
      "text/plain": [
       "['BRUTON',\n",
       " 'Robbie jones',\n",
       " 'SPARX',\n",
       " 'HRDK',\n",
       " 'K- FOOTLANCE',\n",
       " 'Kraasa',\n",
       " 'Robbie jones',\n",
       " 'World Wear Footwear',\n",
       " 'PUMA',\n",
       " 'aadi',\n",
       " 'RapidBox',\n",
       " 'believe',\n",
       " 'DUNKASTON',\n",
       " 'aadi',\n",
       " 'India hub',\n",
       " 'SPARX',\n",
       " 'Kreverse',\n",
       " 'World Wear Footwear',\n",
       " 'Zorth',\n",
       " 'BRUTON',\n",
       " 'Zorth',\n",
       " 'SPARX',\n",
       " 'BIRDE',\n",
       " 'Xtoon',\n",
       " 'RODDICK SHOES',\n",
       " 'PUMA',\n",
       " 'SCATCHITE',\n",
       " 'Robbie jones',\n",
       " 'CALCADOS',\n",
       " 'BIRDE',\n",
       " 'KANEGGYE',\n",
       " 'Echor',\n",
       " 'BIRDE',\n",
       " 'Vellinto',\n",
       " 'FEWROK',\n",
       " 'BRUTON',\n",
       " 'Robbie jones',\n",
       " 'ASIAN',\n",
       " 'SPARX',\n",
       " 'BRUTON']"
      ]
     },
     "execution_count": 49,
     "metadata": {},
     "output_type": "execute_result"
    }
   ],
   "source": [
    "brand_titles2=[]\n",
    "for i in brands_tags:\n",
    "    brand_titles2.append(i.text)\n",
    "brand_titles2"
   ]
  },
  {
   "cell_type": "code",
   "execution_count": 50,
   "id": "29e229b9",
   "metadata": {},
   "outputs": [
    {
     "data": {
      "text/plain": [
       "40"
      ]
     },
     "execution_count": 50,
     "metadata": {},
     "output_type": "execute_result"
    }
   ],
   "source": [
    "description_tags1=driver.find_elements_by_xpath('//div[@class=\"_2B099V\"]/a[1]')\n",
    "len (description_tags1)"
   ]
  },
  {
   "cell_type": "code",
   "execution_count": 51,
   "id": "2240e6e3",
   "metadata": {},
   "outputs": [
    {
     "data": {
      "text/plain": [
       "['Modern Trendy Sneakers Shoes Sneakers For Men',\n",
       " 'Casual Sneakers Black Shoes For Men Sneakers For Men',\n",
       " 'SM439G Sneakers For Men',\n",
       " 'Sneakers For Men',\n",
       " 'Sneakers For Men',\n",
       " 'Shark-41 Sneakers For Men',\n",
       " 'Sneakers For Men',\n",
       " 'Latest Collection-1216 Stylish Casual Sports Sneakers F...',\n",
       " 'Glory Sneakers For Men',\n",
       " 'Sneakers For Men',\n",
       " 'Sneakers For Men',\n",
       " 'Sneakers for men(black_6) Sneakers For Men',\n",
       " 'Sneakers For Men',\n",
       " 'Blue Synthetic Leather Casual Shoes Sneakers For Men',\n",
       " 'Luxury Fashionable casual sneaker shoes Sneakers For Me...',\n",
       " 'SM-322 Sneakers For Men',\n",
       " 'Sneakers For Men',\n",
       " 'Combo Pack of 4 Latest Collection Stylish Casual Loafer...',\n",
       " 'Sneakers For Men',\n",
       " 'Lattest Sneakers Shoe Sneakers For Men',\n",
       " 'Sneakers For Men',\n",
       " 'Men White Sneakers Sneakers For Men',\n",
       " 'Combo Pack of 2 Casual shoes Sneakers For Men',\n",
       " \"white Casual shoes,Sneakers for men's Sneakers For Men\",\n",
       " 'Fashion Outdoor Canvas Casual Light Weight Lace-up Even...',\n",
       " 'Puma Smash v2 L Perf Puma White-Puma Whi Sneakers For M...',\n",
       " 'Sneakers For Men',\n",
       " 'Casual Sneakers White Shoes For Men Sneakers For Men',\n",
       " 'Trendy Fashion Combo Pack of 2 Sneakers For Men',\n",
       " 'Combo Pack of 5 Casual Shoes Sneakers For Men',\n",
       " 'Sneakers For Men',\n",
       " \"Men's Canvas Low Top Sneakers Lace-up Classic Casual Sn...\",\n",
       " 'Combo Pack of 2 Casual Shoes Sneakers For Men',\n",
       " 'Casual Sneakrs For Men Sneakers For Men',\n",
       " 'Premium quality Sneakers For Men',\n",
       " 'Modern & Trendy Collection Combo Pack of 02 Shoes for M...',\n",
       " 'Sneakers For Men',\n",
       " 'Skypy-31 Walking Shoes,Training Shoes,Sneakers,Loafers,...',\n",
       " 'SM-439 Sneakers For Men',\n",
       " 'Combo Pack Of 2 Latest Stylish Casual Shoes for Men Lac...']"
      ]
     },
     "execution_count": 51,
     "metadata": {},
     "output_type": "execute_result"
    }
   ],
   "source": [
    "description_names2=[]\n",
    "for j in description_tags1:\n",
    "    description_names2.append(j.text)\n",
    "description_names2"
   ]
  },
  {
   "cell_type": "code",
   "execution_count": 52,
   "id": "8a701d03",
   "metadata": {},
   "outputs": [
    {
     "data": {
      "text/plain": [
       "40"
      ]
     },
     "execution_count": 52,
     "metadata": {},
     "output_type": "execute_result"
    }
   ],
   "source": [
    "price_tags=driver.find_elements_by_xpath('//div[@class=\"_30jeq3\"]')\n",
    "len(price_tags)"
   ]
  },
  {
   "cell_type": "code",
   "execution_count": 53,
   "id": "e63ff8a4",
   "metadata": {},
   "outputs": [
    {
     "data": {
      "text/plain": [
       "['₹339',\n",
       " '₹451',\n",
       " '₹799',\n",
       " '₹367',\n",
       " '₹489',\n",
       " '₹449',\n",
       " '₹499',\n",
       " '₹199',\n",
       " '₹1,319',\n",
       " '₹399',\n",
       " '₹640',\n",
       " '₹424',\n",
       " '₹449',\n",
       " '₹290',\n",
       " '₹429',\n",
       " '₹891',\n",
       " '₹259',\n",
       " '₹599',\n",
       " '₹499',\n",
       " '₹305',\n",
       " '₹498',\n",
       " '₹721',\n",
       " '₹599',\n",
       " '₹499',\n",
       " '₹499',\n",
       " '₹2,199',\n",
       " '₹398',\n",
       " '₹474',\n",
       " '₹498',\n",
       " '₹892',\n",
       " '₹399',\n",
       " '₹386',\n",
       " '₹535',\n",
       " '₹749',\n",
       " '₹429',\n",
       " '₹536',\n",
       " '₹499',\n",
       " '₹499',\n",
       " '₹799',\n",
       " '₹530']"
      ]
     },
     "execution_count": 53,
     "metadata": {},
     "output_type": "execute_result"
    }
   ],
   "source": [
    "price2=[]\n",
    "for k in price_tags:\n",
    "    price2.append(k.text)\n",
    "price2"
   ]
  },
  {
   "cell_type": "code",
   "execution_count": 55,
   "id": "dfc1d969",
   "metadata": {},
   "outputs": [
    {
     "data": {
      "text/plain": [
       "40"
      ]
     },
     "execution_count": 55,
     "metadata": {},
     "output_type": "execute_result"
    }
   ],
   "source": [
    "discount_tags=driver.find_elements_by_xpath('//div[@class=\"_3Ay6Sb\"]')\n",
    "len(discount_tags)"
   ]
  },
  {
   "cell_type": "code",
   "execution_count": 57,
   "id": "2d5b72a9",
   "metadata": {},
   "outputs": [
    {
     "data": {
      "text/plain": [
       "['73% off',\n",
       " '54% off',\n",
       " '1% off',\n",
       " '63% off',\n",
       " '51% off',\n",
       " '55% off',\n",
       " '50% off',\n",
       " '60% off',\n",
       " '56% off',\n",
       " '80% off',\n",
       " '35% off',\n",
       " '57% off',\n",
       " '70% off',\n",
       " '41% off',\n",
       " '78% off',\n",
       " '15% off',\n",
       " '74% off',\n",
       " '73% off',\n",
       " '50% off',\n",
       " '76% off',\n",
       " '50% off',\n",
       " '15% off',\n",
       " '60% off',\n",
       " '66% off',\n",
       " '50% off',\n",
       " '45% off',\n",
       " '60% off',\n",
       " '52% off',\n",
       " '50% off',\n",
       " '64% off',\n",
       " '20% off',\n",
       " '74% off',\n",
       " '64% off',\n",
       " '42% off',\n",
       " '57% off',\n",
       " '78% off',\n",
       " '50% off',\n",
       " '37% off',\n",
       " '1% off',\n",
       " '78% off']"
      ]
     },
     "execution_count": 57,
     "metadata": {},
     "output_type": "execute_result"
    }
   ],
   "source": [
    "discount2=[]\n",
    "for k in discount_tags:\n",
    "    discount2.append(k.text)\n",
    "discount2"
   ]
  },
  {
   "cell_type": "code",
   "execution_count": 58,
   "id": "475123dd",
   "metadata": {},
   "outputs": [
    {
     "data": {
      "text/plain": [
       "<selenium.webdriver.remote.webelement.WebElement (session=\"79ba9009c4bc7cb6822bdefe6415ab53\", element=\"d21f848e-b07f-47bc-8ce3-2d010930fac9\")>"
      ]
     },
     "execution_count": 58,
     "metadata": {},
     "output_type": "execute_result"
    }
   ],
   "source": [
    "next_btn=driver.find_element_by_xpath('/html/body/div[1]/div/div[3]/div[1]/div[2]/div[12]/div/div/nav/a[12]/span')\n",
    "next_btn"
   ]
  },
  {
   "cell_type": "code",
   "execution_count": 59,
   "id": "39646543",
   "metadata": {},
   "outputs": [],
   "source": [
    "next_btn.click()"
   ]
  },
  {
   "cell_type": "code",
   "execution_count": 60,
   "id": "a60cdd09",
   "metadata": {},
   "outputs": [
    {
     "data": {
      "text/plain": [
       "40"
      ]
     },
     "execution_count": 60,
     "metadata": {},
     "output_type": "execute_result"
    }
   ],
   "source": [
    "brands_tags=driver.find_elements_by_xpath('//div[@class=\"_2WkVRV\"]')\n",
    "len(brands_tags)"
   ]
  },
  {
   "cell_type": "code",
   "execution_count": 61,
   "id": "ab4c5e1f",
   "metadata": {},
   "outputs": [
    {
     "data": {
      "text/plain": [
       "['SPADE CLUB',\n",
       " 'Robbie jones',\n",
       " 'Zorth',\n",
       " 'Ktiz',\n",
       " 'Tying',\n",
       " 'Kraasa',\n",
       " 'WHITE WALKERS',\n",
       " 'KNIGHT WALKERS',\n",
       " 'aadi',\n",
       " 'CLYMB',\n",
       " 'SPARX',\n",
       " 'Airland',\n",
       " 'Rzisbo',\n",
       " 'Bonexy',\n",
       " 'Xentex',\n",
       " 'RapidBox',\n",
       " 'Strollin',\n",
       " 'BRUTON',\n",
       " 'K- FOOTLANCE',\n",
       " 'BRUTON']"
      ]
     },
     "execution_count": 61,
     "metadata": {},
     "output_type": "execute_result"
    }
   ],
   "source": [
    "brand_titles3=[]\n",
    "for i in brands_tags:\n",
    "    brand_titles3.append(i.text)\n",
    "brand_titles3[0:20]"
   ]
  },
  {
   "cell_type": "code",
   "execution_count": 62,
   "id": "ce31367e",
   "metadata": {},
   "outputs": [
    {
     "data": {
      "text/plain": [
       "40"
      ]
     },
     "execution_count": 62,
     "metadata": {},
     "output_type": "execute_result"
    }
   ],
   "source": [
    "description_tags=driver.find_elements_by_xpath('//div[@class=\"_2B099V\"]/a[1]')\n",
    "len(description_tags)"
   ]
  },
  {
   "cell_type": "code",
   "execution_count": 63,
   "id": "9cc834fc",
   "metadata": {},
   "outputs": [
    {
     "data": {
      "text/plain": [
       "['Sneakers For Men',\n",
       " 'Casual Sneakers Shoes For Men And Boys Sneakers For Men',\n",
       " 'New Fashion Outdoor Trendy Lightweight Casual,Canvas St...',\n",
       " 'Sneakers For Men',\n",
       " 'Model name: New Latest Affordable Range of Combo Pack o...',\n",
       " 'Casuals, Canvas, Partywear Sneakers For Men',\n",
       " 'Stylish & Trending Outdoor Walking Comfortable Sneakers...',\n",
       " 'Sneakers For Men',\n",
       " 'Sneakers For Men',\n",
       " 'Sneakers For Men',\n",
       " 'SM-322 Sneakers For Men',\n",
       " 'Sneakers Shoes For Men Black Sneakers For Men',\n",
       " 'Sneakers For Men',\n",
       " 'Sneakers For Men',\n",
       " 'Sneakers For Men',\n",
       " 'Sneakers For Men',\n",
       " 'Sneakers For Men',\n",
       " 'Modern & Trendy Collection Combo Pack of 02 Shoes for M...',\n",
       " 'Sneakers For Men',\n",
       " 'CUBIC_1 Sneakers For Men',\n",
       " 'SM-175 Sneakers For Men',\n",
       " '1154 Sneakers For Men',\n",
       " 'Sneakers For Men',\n",
       " 'Boys & Men Stylish, Comfortable Comfort Foam Shoes With...',\n",
       " 'Sneakers For Men',\n",
       " 'Multicolor Running Shoes,Gym Shoes,Walking Shoes Sneake...',\n",
       " 'Sneakers For Men',\n",
       " 'SM-162 Sneakers For Men',\n",
       " 'Sneakers For Men',\n",
       " 'Sneakers For Men',\n",
       " 'Sneakers For Men',\n",
       " 'Men Casual Shoes Sneakers For Men',\n",
       " 'Sneakers For Men',\n",
       " 'Casual Shoes Sneakers For Men',\n",
       " 'Casual Sneakers Sneakers For Men',\n",
       " 'Sneaker 1258 Sneakers For Men',\n",
       " 'Stylish Party Wear Casual Sneakers Sneakers For Men',\n",
       " 'Sneakers For Men',\n",
       " 'LYTECOURT Sneakers For Men',\n",
       " 'SM-496 Sneakers For Men']"
      ]
     },
     "execution_count": 63,
     "metadata": {},
     "output_type": "execute_result"
    }
   ],
   "source": [
    "description_names3=[]\n",
    "for j in description_tags:\n",
    "    description_names3.append(j.text)\n",
    "description_names3"
   ]
  },
  {
   "cell_type": "code",
   "execution_count": 64,
   "id": "05105ae5",
   "metadata": {},
   "outputs": [
    {
     "data": {
      "text/plain": [
       "40"
      ]
     },
     "execution_count": 64,
     "metadata": {},
     "output_type": "execute_result"
    }
   ],
   "source": [
    "price_tags=driver.find_elements_by_xpath('//div[@class=\"_30jeq3\"]')\n",
    "len(price_tags)"
   ]
  },
  {
   "cell_type": "code",
   "execution_count": 65,
   "id": "5d5f3f1f",
   "metadata": {},
   "outputs": [
    {
     "data": {
      "text/plain": [
       "['₹665',\n",
       " '₹474',\n",
       " '₹499',\n",
       " '₹499',\n",
       " '₹999',\n",
       " '₹444',\n",
       " '₹599',\n",
       " '₹649',\n",
       " '₹549',\n",
       " '₹699',\n",
       " '₹849',\n",
       " '₹190',\n",
       " '₹599',\n",
       " '₹474',\n",
       " '₹494',\n",
       " '₹630',\n",
       " '₹420',\n",
       " '₹536',\n",
       " '₹489',\n",
       " '₹279']"
      ]
     },
     "execution_count": 65,
     "metadata": {},
     "output_type": "execute_result"
    }
   ],
   "source": [
    "price3=[]\n",
    "for k in price_tags:\n",
    "    price3.append(k.text)\n",
    "price3[0:20]"
   ]
  },
  {
   "cell_type": "code",
   "execution_count": 66,
   "id": "10717217",
   "metadata": {},
   "outputs": [
    {
     "data": {
      "text/plain": [
       "40"
      ]
     },
     "execution_count": 66,
     "metadata": {},
     "output_type": "execute_result"
    }
   ],
   "source": [
    "discount_tags=driver.find_elements_by_xpath('//div[@class=\"_3Ay6Sb\"]')\n",
    "len(discount_tags)"
   ]
  },
  {
   "cell_type": "code",
   "execution_count": 67,
   "id": "0ceed167",
   "metadata": {},
   "outputs": [
    {
     "data": {
      "text/plain": [
       "['33% off',\n",
       " '52% off',\n",
       " '50% off',\n",
       " '50% off',\n",
       " '49% off',\n",
       " '55% off',\n",
       " '50% off',\n",
       " '56% off',\n",
       " '72% off',\n",
       " '53% off',\n",
       " '15% off',\n",
       " '61% off',\n",
       " '40% off',\n",
       " '52% off',\n",
       " '67% off',\n",
       " '36% off',\n",
       " '57% off',\n",
       " '78% off',\n",
       " '51% off',\n",
       " '78% off',\n",
       " '18% off',\n",
       " '48% off',\n",
       " '67% off',\n",
       " '75% off',\n",
       " '76% off',\n",
       " '34% off',\n",
       " '50% off',\n",
       " '15% off',\n",
       " '4% off',\n",
       " '75% off',\n",
       " '40% off',\n",
       " '35% off',\n",
       " '74% off',\n",
       " '66% off',\n",
       " '15% off',\n",
       " '52% off',\n",
       " '61% off',\n",
       " '57% off',\n",
       " '45% off',\n",
       " '15% off']"
      ]
     },
     "execution_count": 67,
     "metadata": {},
     "output_type": "execute_result"
    }
   ],
   "source": [
    "discount3=[]\n",
    "for k in discount_tags:\n",
    "    discount3.append(k.text)\n",
    "\n",
    "discount3"
   ]
  },
  {
   "cell_type": "code",
   "execution_count": 68,
   "id": "82b397cf",
   "metadata": {},
   "outputs": [
    {
     "data": {
      "text/html": [
       "<div>\n",
       "<style scoped>\n",
       "    .dataframe tbody tr th:only-of-type {\n",
       "        vertical-align: middle;\n",
       "    }\n",
       "\n",
       "    .dataframe tbody tr th {\n",
       "        vertical-align: top;\n",
       "    }\n",
       "\n",
       "    .dataframe thead th {\n",
       "        text-align: right;\n",
       "    }\n",
       "</style>\n",
       "<table border=\"1\" class=\"dataframe\">\n",
       "  <thead>\n",
       "    <tr style=\"text-align: right;\">\n",
       "      <th></th>\n",
       "      <th>Brand</th>\n",
       "      <th>Product Description</th>\n",
       "      <th>Price</th>\n",
       "      <th>Discount</th>\n",
       "    </tr>\n",
       "  </thead>\n",
       "  <tbody>\n",
       "    <tr>\n",
       "      <th>0</th>\n",
       "      <td>Echor</td>\n",
       "      <td>Echor Men's Sneakers Fashion Lightweight Runni...</td>\n",
       "      <td>₹569</td>\n",
       "      <td>62% off</td>\n",
       "    </tr>\n",
       "    <tr>\n",
       "      <th>1</th>\n",
       "      <td>CLYMB</td>\n",
       "      <td>Walking/Outdoor/Running Sneakers For Men</td>\n",
       "      <td>₹649</td>\n",
       "      <td>56% off</td>\n",
       "    </tr>\n",
       "    <tr>\n",
       "      <th>2</th>\n",
       "      <td>Magnolia</td>\n",
       "      <td>Sneakers For Men</td>\n",
       "      <td>₹398</td>\n",
       "      <td>60% off</td>\n",
       "    </tr>\n",
       "    <tr>\n",
       "      <th>3</th>\n",
       "      <td>luxury fashion</td>\n",
       "      <td>Sneakers For Men</td>\n",
       "      <td>₹449</td>\n",
       "      <td>65% off</td>\n",
       "    </tr>\n",
       "    <tr>\n",
       "      <th>4</th>\n",
       "      <td>URBANBOX</td>\n",
       "      <td>Sneakers Sneakers For Men</td>\n",
       "      <td>₹220</td>\n",
       "      <td>77% off</td>\n",
       "    </tr>\n",
       "    <tr>\n",
       "      <th>...</th>\n",
       "      <td>...</td>\n",
       "      <td>...</td>\n",
       "      <td>...</td>\n",
       "      <td>...</td>\n",
       "    </tr>\n",
       "    <tr>\n",
       "      <th>15</th>\n",
       "      <td>RapidBox</td>\n",
       "      <td>Sneakers For Men</td>\n",
       "      <td>₹630</td>\n",
       "      <td>36% off</td>\n",
       "    </tr>\n",
       "    <tr>\n",
       "      <th>16</th>\n",
       "      <td>Strollin</td>\n",
       "      <td>Sneakers For Men</td>\n",
       "      <td>₹420</td>\n",
       "      <td>57% off</td>\n",
       "    </tr>\n",
       "    <tr>\n",
       "      <th>17</th>\n",
       "      <td>BRUTON</td>\n",
       "      <td>Modern &amp; Trendy Collection Combo Pack of 02 Sh...</td>\n",
       "      <td>₹536</td>\n",
       "      <td>78% off</td>\n",
       "    </tr>\n",
       "    <tr>\n",
       "      <th>18</th>\n",
       "      <td>K- FOOTLANCE</td>\n",
       "      <td>Sneakers For Men</td>\n",
       "      <td>₹489</td>\n",
       "      <td>51% off</td>\n",
       "    </tr>\n",
       "    <tr>\n",
       "      <th>19</th>\n",
       "      <td>BRUTON</td>\n",
       "      <td>CUBIC_1 Sneakers For Men</td>\n",
       "      <td>₹279</td>\n",
       "      <td>78% off</td>\n",
       "    </tr>\n",
       "  </tbody>\n",
       "</table>\n",
       "<p>100 rows × 4 columns</p>\n",
       "</div>"
      ],
      "text/plain": [
       "             Brand                               Product Description  Price  \\\n",
       "0            Echor  Echor Men's Sneakers Fashion Lightweight Runni...  ₹569   \n",
       "1            CLYMB           Walking/Outdoor/Running Sneakers For Men  ₹649   \n",
       "2         Magnolia                                   Sneakers For Men  ₹398   \n",
       "3   luxury fashion                                   Sneakers For Men  ₹449   \n",
       "4         URBANBOX                          Sneakers Sneakers For Men  ₹220   \n",
       "..             ...                                                ...   ...   \n",
       "15        RapidBox                                   Sneakers For Men  ₹630   \n",
       "16        Strollin                                   Sneakers For Men  ₹420   \n",
       "17          BRUTON  Modern & Trendy Collection Combo Pack of 02 Sh...  ₹536   \n",
       "18    K- FOOTLANCE                                   Sneakers For Men  ₹489   \n",
       "19          BRUTON                           CUBIC_1 Sneakers For Men  ₹279   \n",
       "\n",
       "   Discount  \n",
       "0   62% off  \n",
       "1   56% off  \n",
       "2   60% off  \n",
       "3   65% off  \n",
       "4   77% off  \n",
       "..      ...  \n",
       "15  36% off  \n",
       "16  57% off  \n",
       "17  78% off  \n",
       "18  51% off  \n",
       "19  78% off  \n",
       "\n",
       "[100 rows x 4 columns]"
      ]
     },
     "execution_count": 68,
     "metadata": {},
     "output_type": "execute_result"
    }
   ],
   "source": [
    "sneakers1=pd.DataFrame()\n",
    "sneakers1['Brand']= brand_titles\n",
    "sneakers1['Product Description ']= description_names\n",
    "sneakers1['Price']= price\n",
    "sneakers1['Discount']= discount\n",
    "\n",
    "sneakers2=pd.DataFrame()\n",
    "sneakers2['Brand']= brand_titles2\n",
    "sneakers2['Product Description ']= description_names2\n",
    "sneakers2['Price']= price2\n",
    "sneakers2['Discount']= discount2\n",
    "\n",
    "sneakers3=pd.DataFrame()\n",
    "sneakers3['Brand']= brand_titles3\n",
    "sneakers3['Product Description ']= description_names3\n",
    "sneakers3['Price']= price3\n",
    "sneakers3['Discount']= discount3\n",
    "\n",
    "\n",
    "sneakers=pd.concat([sneakers1,sneakers2,sneakers3[0:20]])\n",
    "sneakers"
   ]
  },
  {
   "cell_type": "code",
   "execution_count": null,
   "id": "27e7d7b8",
   "metadata": {},
   "outputs": [],
   "source": []
  }
 ],
 "metadata": {
  "kernelspec": {
   "display_name": "Python 3",
   "language": "python",
   "name": "python3"
  },
  "language_info": {
   "codemirror_mode": {
    "name": "ipython",
    "version": 3
   },
   "file_extension": ".py",
   "mimetype": "text/x-python",
   "name": "python",
   "nbconvert_exporter": "python",
   "pygments_lexer": "ipython3",
   "version": "3.8.8"
  }
 },
 "nbformat": 4,
 "nbformat_minor": 5
}
